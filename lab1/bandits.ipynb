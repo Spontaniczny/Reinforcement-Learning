{
 "cells": [
  {
   "cell_type": "code",
   "id": "3cee736b936b3303",
   "metadata": {
    "ExecuteTime": {
     "end_time": "2025-04-07T14:11:32.270834Z",
     "start_time": "2025-04-07T14:11:32.267068Z"
    }
   },
   "source": [
    "import matplotlib.pyplot as plt\n",
    "import numpy as np\n",
    "\n",
    "from abc import abstractmethod\n",
    "from itertools import accumulate\n",
    "import random\n",
    "from typing import Protocol\n",
    "import math"
   ],
   "outputs": [],
   "execution_count": 28
  },
  {
   "metadata": {
    "ExecuteTime": {
     "end_time": "2025-04-07T13:23:11.321626Z",
     "start_time": "2025-04-07T13:23:11.315137Z"
    }
   },
   "cell_type": "code",
   "source": [
    "class KArmedBandit(Protocol):\n",
    "    @abstractmethod\n",
    "    def arms(self) -> list[str]:\n",
    "        raise NotImplementedError\n",
    "\n",
    "    @abstractmethod\n",
    "    def reward(self, arm: str) -> float:\n",
    "        raise NotImplementedError\n",
    "\n",
    "\n",
    "class BanditLearner(Protocol):\n",
    "    name: str\n",
    "    color: str\n",
    "\n",
    "    @abstractmethod\n",
    "    def reset(self, arms: list[str], time_steps: int):\n",
    "        raise NotImplementedError\n",
    "\n",
    "    @abstractmethod\n",
    "    def pick_arm(self) -> str:\n",
    "        raise NotImplementedError\n",
    "\n",
    "    @abstractmethod\n",
    "    def acknowledge_reward(self, arm: str, reward: float) -> None:\n",
    "        pass"
   ],
   "id": "7103225074b9ac81",
   "outputs": [],
   "execution_count": 9
  },
  {
   "metadata": {
    "ExecuteTime": {
     "end_time": "2025-04-07T13:23:11.340642Z",
     "start_time": "2025-04-07T13:23:11.333185Z"
    }
   },
   "cell_type": "code",
   "source": [
    "class BanditProblem:\n",
    "    def __init__(self, time_steps: int, bandit: KArmedBandit, learner: BanditLearner):\n",
    "        self.time_steps: int = time_steps\n",
    "        self.bandit: KArmedBandit = bandit\n",
    "        self.learner: BanditLearner = learner\n",
    "        self.learner.reset(self.bandit.arms(), self.time_steps)\n",
    "\n",
    "    def run(self) -> list[float]:\n",
    "        rewards = []\n",
    "        for _ in range(self.time_steps):\n",
    "            arm = self.learner.pick_arm()\n",
    "            reward = self.bandit.reward(arm)\n",
    "            self.learner.acknowledge_reward(arm, reward)\n",
    "            rewards.append(reward)\n",
    "        return rewards"
   ],
   "id": "d9007d7f0ca3d41a",
   "outputs": [],
   "execution_count": 10
  },
  {
   "metadata": {
    "ExecuteTime": {
     "end_time": "2025-04-07T13:23:11.354943Z",
     "start_time": "2025-04-07T13:23:11.350492Z"
    }
   },
   "cell_type": "code",
   "source": [
    "def get_random_best_index(rewards):\n",
    "    max_val = max(rewards)\n",
    "    return random.choice([i for i, val in enumerate(rewards) if val == max_val])"
   ],
   "id": "5580269252f19858",
   "outputs": [],
   "execution_count": 11
  },
  {
   "metadata": {
    "ExecuteTime": {
     "end_time": "2025-04-07T13:23:11.368162Z",
     "start_time": "2025-04-07T13:23:11.363273Z"
    }
   },
   "cell_type": "code",
   "source": [
    "POTENTIAL_HITS = {\n",
    "    \"April Showers\": 0.5,\n",
    "    \"In Praise of Dreams\": 0.8,\n",
    "    \"We Built This City\": 0.9,\n",
    "    \"Twenty Four Hours\": 0.3,\n",
    "    \"Dirge for November\": 0.1,\n",
    "}"
   ],
   "id": "18877b0966792b23",
   "outputs": [],
   "execution_count": 12
  },
  {
   "metadata": {
    "ExecuteTime": {
     "end_time": "2025-04-07T13:23:11.383252Z",
     "start_time": "2025-04-07T13:23:11.377722Z"
    }
   },
   "cell_type": "code",
   "source": [
    "class TopHitBandit(KArmedBandit):\n",
    "    def __init__(self, potential_hits: dict[str, float]):\n",
    "        self.potential_hits: dict[str, float] = potential_hits\n",
    "\n",
    "    def arms(self) -> list[str]:\n",
    "        return list(self.potential_hits)\n",
    "\n",
    "    def reward(self, arm: str) -> float:\n",
    "        thumb_up_probability = self.potential_hits[arm]\n",
    "        return 1.0 if random.random() <= thumb_up_probability else 0.0"
   ],
   "id": "6cdfdbf82fd097db",
   "outputs": [],
   "execution_count": 13
  },
  {
   "metadata": {
    "ExecuteTime": {
     "end_time": "2025-04-07T13:23:11.397596Z",
     "start_time": "2025-04-07T13:23:11.391993Z"
    }
   },
   "cell_type": "code",
   "source": [
    "class RandomLearner(BanditLearner):\n",
    "    def __init__(self):\n",
    "        self.name = \"Random\"\n",
    "        self.color = \"black\"\n",
    "        self.arms: list[str] = []\n",
    "\n",
    "    def reset(self, arms: list[str], time_steps: int):\n",
    "        self.arms = arms\n",
    "\n",
    "    def pick_arm(self) -> str:\n",
    "        return random.choice(self.arms)\n",
    "\n",
    "    def acknowledge_reward(self, arm: str, reward: float) -> None:\n",
    "        pass"
   ],
   "id": "626581090f9b1bf6",
   "outputs": [],
   "execution_count": 14
  },
  {
   "metadata": {
    "ExecuteTime": {
     "end_time": "2025-04-07T13:23:11.412939Z",
     "start_time": "2025-04-07T13:23:11.406157Z"
    }
   },
   "cell_type": "code",
   "source": [
    "class ExploreThenCommitLearner(BanditLearner):\n",
    "    def __init__(self, explore_time = 5):\n",
    "        self.name = f\"ExploreThenCommit m={explore_time}\"\n",
    "        self.color = \"green\"\n",
    "        self.explore_time = explore_time\n",
    "        \n",
    "        # Resetable\n",
    "        self.arms: list[str] = []\n",
    "        self.arms_indexes: dict[str: int] = dict()\n",
    "        self.best_arm: str | None = None\n",
    "        self.rewards: list[float] = []\n",
    "        self.total_time = 0\n",
    "\n",
    "    def reset(self, arms: list[str], time_steps: int):\n",
    "        self.arms = arms\n",
    "        self.arms_indexes = {arm: i for i, arm in enumerate(self.arms)}\n",
    "        self.best_arm = None\n",
    "        self.rewards = [0 for _ in range(len(self.arms))]\n",
    "        self.total_time = 0\n",
    "\n",
    "    def pick_arm(self) -> str:\n",
    "        if self.total_time < self.explore_time * len(self.arms):\n",
    "            arm = self.arms[self.total_time % len(self.arms)]\n",
    "            return arm\n",
    "        \n",
    "        if self.best_arm is None:\n",
    "            self.best_arm = self.arms[get_random_best_index(self.rewards)]\n",
    "        \n",
    "        return self.best_arm\n",
    "\n",
    "    def acknowledge_reward(self, arm: str, reward: float) -> None:\n",
    "        self.total_time += 1\n",
    "        self.rewards[self.arms_indexes[arm]] += reward"
   ],
   "id": "3d88eae140b66114",
   "outputs": [],
   "execution_count": 15
  },
  {
   "metadata": {
    "ExecuteTime": {
     "end_time": "2025-04-07T14:39:58.823547Z",
     "start_time": "2025-04-07T14:39:58.817028Z"
    }
   },
   "cell_type": "code",
   "source": [
    "class GreedyLearner(BanditLearner):\n",
    "    def __init__(self, explore_probability = 0.1, arm_start_val = 0):\n",
    "        self.name = f\"Greedy exp={explore_probability}, start_val={arm_start_val}\"\n",
    "        self.color = \"red\"\n",
    "        self.explore_probability = explore_probability\n",
    "        self.arm_start_val = arm_start_val\n",
    "        \n",
    "        # Resetable\n",
    "        self.arms: list[str] = []\n",
    "        self.arms_indexes: dict[str: int] = dict()\n",
    "        self.rewards: list[float] = []\n",
    "        self.arms_usage_counter: list[int] = []\n",
    "\n",
    "\n",
    "    def reset(self, arms: list[str], time_steps: int):\n",
    "        self.arms = arms\n",
    "        self.arms_indexes = {arm: i for i, arm in enumerate(self.arms)}\n",
    "        self.rewards = [self.arm_start_val for _ in range(len(self.arms))]\n",
    "        self.arms_usage_counter = [0 for _ in range(len(self.arms))]\n",
    "\n",
    "\n",
    "    def pick_arm(self) -> str:\n",
    "        if random.random() < self.explore_probability:\n",
    "            return random.choice(self.arms)\n",
    "        \n",
    "        return self.arms[get_random_best_index(self.rewards)]\n",
    "    \n",
    "\n",
    "    def acknowledge_reward(self, arm: str, reward: float) -> None:\n",
    "        arm_index = self.arms_indexes[arm]\n",
    "        self.arms_usage_counter[arm_index] += 1\n",
    "        current_reward = self.rewards[arm_index]\n",
    "        self.rewards[arm_index] += (reward - current_reward) / self.arms_usage_counter[arm_index]"
   ],
   "id": "8fe368ed6ffa93e1",
   "outputs": [],
   "execution_count": 70
  },
  {
   "metadata": {
    "ExecuteTime": {
     "end_time": "2025-04-07T14:39:51.991956Z",
     "start_time": "2025-04-07T14:39:51.984249Z"
    }
   },
   "cell_type": "code",
   "source": [
    "class UCBLearner(BanditLearner):\n",
    "    def __init__(self, c=0):\n",
    "        self.name = f\"UCB {c=}\"\n",
    "        self.color = \"blue\"\n",
    "        self.c = c\n",
    "        \n",
    "        # Resetable\n",
    "        self.arms: list[str] = []\n",
    "        self.arms_indexes: dict[str: int] = dict()\n",
    "        self.rewards: list[float] = []\n",
    "        self.total_time = 0\n",
    "        self.arms_usage_counter: list[int] = []\n",
    "\n",
    "\n",
    "    def reset(self, arms: list[str], time_steps: int):\n",
    "        self.arms = arms\n",
    "        self.arms_indexes = {arm: i for i, arm in enumerate(self.arms)}\n",
    "        self.rewards = [0 for _ in range(len(self.arms))]\n",
    "        self.total_time = 0\n",
    "        self.arms_usage_counter = [0 for _ in range(len(self.arms))]\n",
    "\n",
    "\n",
    "    def pick_arm(self) -> str:\n",
    "        self.total_time += 1\n",
    "        \n",
    "        if self.total_time <= len(self.arms):\n",
    "            return self.arms[self.total_time - 1]\n",
    "        \n",
    "        rewards_t = self.rewards[:]\n",
    "        for i in range(len(rewards_t)):\n",
    "            rewards_t[i] += self.c * math.sqrt(math.log(self.total_time) / self.arms_usage_counter[i])\n",
    "        \n",
    "        return self.arms[get_random_best_index(rewards_t)]\n",
    "    \n",
    "\n",
    "    def acknowledge_reward(self, arm: str, reward: float) -> None:\n",
    "        arm_index = self.arms_indexes[arm]\n",
    "        self.arms_usage_counter[arm_index] += 1\n",
    "        current_reward = self.rewards[arm_index]\n",
    "        self.rewards[arm_index] += (reward - current_reward) / self.arms_usage_counter[arm_index]"
   ],
   "id": "7ba256fc16337eeb",
   "outputs": [],
   "execution_count": 69
  },
  {
   "metadata": {
    "ExecuteTime": {
     "end_time": "2025-04-07T15:18:10.793996Z",
     "start_time": "2025-04-07T15:18:10.786762Z"
    }
   },
   "cell_type": "code",
   "source": [
    "class ThompsonLearner(BanditLearner):\n",
    "    def __init__(self, alpha=1, beta=1):\n",
    "        self.name = f\"Thompson {alpha=}, {beta=}\"\n",
    "        self.color = \"lawngreen\"\n",
    "        self.alpha = alpha\n",
    "        self.beta = beta\n",
    "        \n",
    "        # Resetable\n",
    "        self.arms: list[str] = []\n",
    "        self.arms_indexes: dict[str: int] = dict()\n",
    "        self.rewards: list[float] = []\n",
    "        self.total_time = 0\n",
    "        self.alpha_tab: list[float] = []\n",
    "        self.beta_tab: list[float] = []\n",
    "\n",
    "\n",
    "    def reset(self, arms: list[str], time_steps: int):\n",
    "        self.arms = arms\n",
    "        self.arms_indexes = {arm: i for i, arm in enumerate(self.arms)}\n",
    "        self.rewards = [0 for _ in range(len(self.arms))]\n",
    "        self.total_time = 0\n",
    "        self.alpha_tab = [self.alpha for _ in range(len(self.arms))]\n",
    "        self.beta_tab = [self.beta for _ in range(len(self.arms))]\n",
    "\n",
    "\n",
    "    def pick_arm(self) -> str:\n",
    "        self.total_time += 1\n",
    "        \n",
    "        best_arm = 0\n",
    "        best_arm_val = float(\"-inf\")\n",
    "        for i in range(len(self.arms)):\n",
    "            sample = np.random.beta(self.alpha_tab[i], self.beta_tab[i])\n",
    "            if best_arm_val < sample:\n",
    "                best_arm_val = sample\n",
    "                best_arm = i\n",
    "                \n",
    "        return self.arms[best_arm]\n",
    "    \n",
    "\n",
    "    def acknowledge_reward(self, arm: str, reward: float) -> None:\n",
    "        arm_index = self.arms_indexes[arm]\n",
    "        self.alpha_tab[arm_index] += reward\n",
    "        self.beta_tab[arm_index] += 1 - reward"
   ],
   "id": "7ed362c502c68354",
   "outputs": [],
   "execution_count": 97
  },
  {
   "metadata": {
    "ExecuteTime": {
     "end_time": "2025-04-07T13:23:11.449039Z",
     "start_time": "2025-04-07T13:23:11.442746Z"
    }
   },
   "cell_type": "code",
   "source": [
    "def evaluate_learner(learner: BanditLearner) -> None:\n",
    "    runs_results = []\n",
    "    for _ in range(TRIALS_PER_LEARNER):\n",
    "        bandit = TopHitBandit(POTENTIAL_HITS)\n",
    "        problem = BanditProblem(time_steps=TIME_STEPS, bandit=bandit, learner=learner)\n",
    "        rewards = problem.run()\n",
    "        accumulated_rewards = list(accumulate(rewards))\n",
    "        runs_results.append(accumulated_rewards)\n",
    "\n",
    "    runs_results = np.array(runs_results)\n",
    "    mean_accumulated_rewards = np.mean(runs_results, axis=0)\n",
    "    std_accumulated_rewards = np.std(runs_results, axis=0)\n",
    "    plt.plot(mean_accumulated_rewards, label=learner.name, color=learner.color)\n",
    "    plt.fill_between(\n",
    "        range(len(mean_accumulated_rewards)),\n",
    "        mean_accumulated_rewards - std_accumulated_rewards,\n",
    "        mean_accumulated_rewards + std_accumulated_rewards,\n",
    "        color=learner.color,\n",
    "        alpha=0.2,\n",
    "    )"
   ],
   "id": "fbb2d6503a2d8fc3",
   "outputs": [],
   "execution_count": 17
  },
  {
   "metadata": {
    "ExecuteTime": {
     "end_time": "2025-04-07T13:23:11.465451Z",
     "start_time": "2025-04-07T13:23:11.462024Z"
    }
   },
   "cell_type": "code",
   "source": [
    "TIME_STEPS = 1000\n",
    "TRIALS_PER_LEARNER = 50"
   ],
   "id": "197d6b20fc160cf8",
   "outputs": [],
   "execution_count": 18
  },
  {
   "metadata": {
    "ExecuteTime": {
     "end_time": "2025-04-07T15:19:56.547955Z",
     "start_time": "2025-04-07T15:19:56.544245Z"
    }
   },
   "cell_type": "code",
   "source": [
    "learners = [\n",
    "    RandomLearner(),\n",
    "    ExploreThenCommitLearner(20),\n",
    "    GreedyLearner(explore_probability=0, arm_start_val=1),\n",
    "    UCBLearner(c=0.25),\n",
    "    ThompsonLearner(2, 2)\n",
    "        ]"
   ],
   "id": "7ba78670341b4ecb",
   "outputs": [],
   "execution_count": 130
  },
  {
   "metadata": {
    "ExecuteTime": {
     "end_time": "2025-04-07T15:20:03.982572Z",
     "start_time": "2025-04-07T15:20:02.781564Z"
    }
   },
   "cell_type": "code",
   "source": [
    "for learner in learners:\n",
    "    evaluate_learner(learner)\n",
    "\n",
    "\n",
    "plt.xlabel(\"Czas\")\n",
    "plt.ylabel(\"Suma uzyskanych nagród\")\n",
    "plt.xlim(0, TIME_STEPS)\n",
    "plt.ylim(0, TIME_STEPS)\n",
    "plt.legend()\n",
    "plt.show()"
   ],
   "id": "620942d01387ebad",
   "outputs": [
    {
     "data": {
      "text/plain": [
       "<Figure size 640x480 with 1 Axes>"
      ],
      "image/png": "[encoded data removed]"
     },
     "metadata": {},
     "output_type": "display_data"
    }
   ],
   "execution_count": 132
  },
  {
   "metadata": {
    "collapsed": true,
    "ExecuteTime": {
     "end_time": "2025-04-07T13:23:11.961126Z",
     "start_time": "2025-04-07T13:23:11.951317Z"
    }
   },
   "cell_type": "code",
   "source": [
    "POTENTIAL_HITS_V2 = {\n",
    "    \"April Showers\": 0.5,\n",
    "    \"In Praise of Dreams\": 0.8,\n",
    "    \"We Built This City\": 0.9,\n",
    "    \"Twenty Four Hours\": 0.3,\n",
    "    \"Dirge for November\": 0.1,\n",
    "    \"Bohemian Rhapsody\": 0.85,\n",
    "    \"Stairway to Heaven\": 0.67,\n",
    "    \"Hotel California\": 0.72,\n",
    "    \"Imagine\": 0.58,\n",
    "    \"Sweet Child O' Mine\": 0.64,\n",
    "    \"Billie Jean\": 0.79,\n",
    "    \"Smells Like Teen Spirit\": 0.63,\n",
    "    \"Yesterday\": 0.45,\n",
    "    \"Like a Rolling Stone\": 0.41,\n",
    "    \"Purple Haze\": 0.38,\n",
    "    \"Born to Run\": 0.48,\n",
    "    \"No Woman, No Cry\": 0.47,\n",
    "    \"God Only Knows\": 0.33,\n",
    "    \"A Day in the Life\": 0.46,\n",
    "    \"Good Vibrations\": 0.42,\n",
    "    \"London Calling\": 0.31,\n",
    "    \"Blowin' in the Wind\": 0.35,\n",
    "    \"I Want to Hold Your Hand\": 0.39,\n",
    "    \"My Generation\": 0.34,\n",
    "    \"Respect\": 0.52,\n",
    "    \"Johnny B. Goode\": 0.44,\n",
    "    \"What's Going On\": 0.43,\n",
    "    \"Strawberry Fields Forever\": 0.37,\n",
    "    \"Thunder Road\": 0.32,\n",
    "    \"Waterloo Sunset\": 0.29,\n",
    "    \"Superstition\": 0.51,\n",
    "    \"Dancing Queen\": 0.56,\n",
    "    \"Bridge Over Troubled Water\": 0.49,\n",
    "    \"River Deep, Mountain High\": 0.36,\n",
    "    \"The Sound of Silence\": 0.48,\n",
    "    \"I Heard It Through the Grapevine\": 0.47,\n",
    "    \"Thriller\": 0.55,\n",
    "    \"Sweet Dreams (Are Made of This)\": 0.52,\n",
    "    \"Every Breath You Take\": 0.46,\n",
    "    \"Like a Prayer\": 0.45,\n",
    "    \"Vogue\": 0.44,\n",
    "    \"Creep\": 0.43,\n",
    "    \"Wonderwall\": 0.51,\n",
    "    \"Bitter Sweet Symphony\": 0.42,\n",
    "    \"Karma Police\": 0.39,\n",
    "    \"Song 2\": 0.35,\n",
    "    \"Mr. Brightside\": 0.48,\n",
    "    \"Seven Nation Army\": 0.52,\n",
    "    \"Crazy in Love\": 0.54,\n",
    "    \"Hey Ya!\": 0.56,\n",
    "    \"Paper Planes\": 0.41,\n",
    "    \"Umbrella\": 0.47,\n",
    "    \"Single Ladies\": 0.49,\n",
    "    \"Rolling in the Deep\": 0.58,\n",
    "    \"Get Lucky\": 0.53,\n",
    "    \"Uptown Funk\": 0.59,\n",
    "    \"Happy\": 0.55,\n",
    "    \"Can't Stop the Feeling!\": 0.51,\n",
    "    \"Shape of You\": 0.57,\n",
    "    \"Despacito\": 0.52,\n",
    "        \"Old Town Road\": 0.76,\n",
    "    \"Bad Guy\": 0.69,\n",
    "    \"Blinding Lights\": 0.78,\n",
    "    \"Driver's License\": 0.66,\n",
    "    \"Levitating\": 0.71,\n",
    "    \"Heat Waves\": 0.68,\n",
    "    \"Stay\": 0.67,\n",
    "    \"As It Was\": 0.75,\n",
    "    \"Unholy\": 0.58,\n",
    "    \"Anti-Hero\": 0.69,\n",
    "    \"Flowers\": 0.72,\n",
    "    \"Last Night\": 0.58,\n",
    "    \"Kill Bill\": 0.66,\n",
    "    \"Creepin'\": 0.62,\n",
    "    \"Die for You\": 0.65,\n",
    "    \"Calm Down\": 0.64,\n",
    "    \"Under the Influence\": 0.57,\n",
    "    \"Bad Habit\": 0.63,\n",
    "    \"Escapism\": 0.53,\n",
    "    \"Rich Flex\": 0.59,\n",
    "    \"Lift Me Up\": 0.61,\n",
    "    \"Jaded\": 0.54,\n",
    "    \"Cuff It\": 0.67,\n",
    "    \"Golden Hour\": 0.66,\n",
    "    \"Sure Thing\": 0.58,\n",
    "    \"Nonsense\": 0.52,\n",
    "    \"The Kind of Love We Make\": 0.61,\n",
    "    \"You Proof\": 0.56,\n",
    "    \"Rock and a Hard Place\": 0.51,\n",
    "    \"Dark Red\": 0.48,\n",
    "    \"Glimpse of Us\": 0.67,\n",
    "    \"Until I Found You\": 0.63,\n",
    "    \"Romantic Homicide\": 0.49,\n",
    "    \"Something in the Orange\": 0.61,\n",
    "    \"She Had Me at Heads Carolina\": 0.57,\n",
    "    \"Going, Going, Gone\": 0.52,\n",
    "    \"Wait in the Truck\": 0.48,\n",
    "    \"Tennessee Whiskey\": 0.66,\n",
    "    \"Vienna\": 0.57,\n",
    "    \"Dreams\": 0.71,\n",
    "    \"The Chain\": 0.64,\n",
    "    \"Don't Stop Believin'\": 0.82,\n",
    "}"
   ],
   "id": "initial_id",
   "outputs": [],
   "execution_count": 21
  }
 ],
 "metadata": {
  "kernelspec": {
   "display_name": "Python 3",
   "language": "python",
   "name": "python3"
  },
  "language_info": {
   "codemirror_mode": {
    "name": "ipython",
    "version": 2
   },
   "file_extension": ".py",
   "mimetype": "text/x-python",
   "name": "python",
   "nbconvert_exporter": "python",
   "pygments_lexer": "ipython2",
   "version": "2.7.6"
  }
 },
 "nbformat": 4,
 "nbformat_minor": 5
}
